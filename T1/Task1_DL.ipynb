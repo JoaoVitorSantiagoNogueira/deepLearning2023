{
  "cells": [
    {
      "cell_type": "markdown",
      "metadata": {
        "id": "view-in-github",
        "colab_type": "text"
      },
      "source": [
        "<a href=\"https://colab.research.google.com/github/JoaoVitorSantiagoNogueira/deepLearning2023/blob/main/T1/Task1_DL.ipynb\" target=\"_parent\"><img src=\"https://colab.research.google.com/assets/colab-badge.svg\" alt=\"Open In Colab\"/></a>"
      ]
    },
    {
      "cell_type": "markdown",
      "metadata": {
        "id": "t7AqPPUie8H6"
      },
      "source": [
        "##Fontes\n",
        "[1] https://towardsdatascience.com/handwritten-digit-mnist-pytorch-977b5338e627\n",
        "\n",
        "[2] https://www.kaggle.com/code/pankajj/fashion-mnist-with-pytorch-93-accuracy\n",
        "\n",
        "[3] https://pytorch.org/vision/main/datasets.html\n",
        "\n",
        "[4] https://saturncloud.io/blog/check-the-total-number-of-parameters-in-a-pytorch-model/#:~:text=To%20check%20the%20number%20of%20parameters%20in%20a%20PyTorch%20model,its%20total%20number%20of%20elements.\n",
        "\n",
        "[5]https://saturncloud.io/blog/how-to-install-cuda-in-google-colab-gpus/\n",
        "\n",
        "[6]https://stackoverflow.com/questions/12332975/how-can-i-install-a-python-module-within-code"
      ]
    },
    {
      "cell_type": "markdown",
      "source": [
        "##Exportar"
      ],
      "metadata": {
        "id": "lV7qv9saA8SW"
      }
    },
    {
      "cell_type": "code",
      "source": [
        "!pip install nbconvert\n",
        "!jupyter nbconvert --to html /content/your_notebook.ipynb"
      ],
      "metadata": {
        "colab": {
          "base_uri": "https://localhost:8080/"
        },
        "id": "ZHkP9SWOA8AL",
        "outputId": "c27cb555-5069-45a2-a368-1f4ea019677a"
      },
      "execution_count": null,
      "outputs": [
        {
          "output_type": "stream",
          "name": "stdout",
          "text": [
            "Requirement already satisfied: nbconvert in /usr/local/lib/python3.10/dist-packages (6.5.4)\n",
            "Requirement already satisfied: lxml in /usr/local/lib/python3.10/dist-packages (from nbconvert) (4.9.3)\n",
            "Requirement already satisfied: beautifulsoup4 in /usr/local/lib/python3.10/dist-packages (from nbconvert) (4.11.2)\n",
            "Requirement already satisfied: bleach in /usr/local/lib/python3.10/dist-packages (from nbconvert) (6.0.0)\n",
            "Requirement already satisfied: defusedxml in /usr/local/lib/python3.10/dist-packages (from nbconvert) (0.7.1)\n",
            "Requirement already satisfied: entrypoints>=0.2.2 in /usr/local/lib/python3.10/dist-packages (from nbconvert) (0.4)\n",
            "Requirement already satisfied: jinja2>=3.0 in /usr/local/lib/python3.10/dist-packages (from nbconvert) (3.1.2)\n",
            "Requirement already satisfied: jupyter-core>=4.7 in /usr/local/lib/python3.10/dist-packages (from nbconvert) (5.3.1)\n",
            "Requirement already satisfied: jupyterlab-pygments in /usr/local/lib/python3.10/dist-packages (from nbconvert) (0.2.2)\n",
            "Requirement already satisfied: MarkupSafe>=2.0 in /usr/local/lib/python3.10/dist-packages (from nbconvert) (2.1.3)\n",
            "Requirement already satisfied: mistune<2,>=0.8.1 in /usr/local/lib/python3.10/dist-packages (from nbconvert) (0.8.4)\n",
            "Requirement already satisfied: nbclient>=0.5.0 in /usr/local/lib/python3.10/dist-packages (from nbconvert) (0.8.0)\n",
            "Requirement already satisfied: nbformat>=5.1 in /usr/local/lib/python3.10/dist-packages (from nbconvert) (5.9.2)\n",
            "Requirement already satisfied: packaging in /usr/local/lib/python3.10/dist-packages (from nbconvert) (23.1)\n",
            "Requirement already satisfied: pandocfilters>=1.4.1 in /usr/local/lib/python3.10/dist-packages (from nbconvert) (1.5.0)\n",
            "Requirement already satisfied: pygments>=2.4.1 in /usr/local/lib/python3.10/dist-packages (from nbconvert) (2.16.1)\n",
            "Requirement already satisfied: tinycss2 in /usr/local/lib/python3.10/dist-packages (from nbconvert) (1.2.1)\n",
            "Requirement already satisfied: traitlets>=5.0 in /usr/local/lib/python3.10/dist-packages (from nbconvert) (5.7.1)\n",
            "Requirement already satisfied: platformdirs>=2.5 in /usr/local/lib/python3.10/dist-packages (from jupyter-core>=4.7->nbconvert) (3.10.0)\n",
            "Requirement already satisfied: jupyter-client>=6.1.12 in /usr/local/lib/python3.10/dist-packages (from nbclient>=0.5.0->nbconvert) (6.1.12)\n",
            "Requirement already satisfied: fastjsonschema in /usr/local/lib/python3.10/dist-packages (from nbformat>=5.1->nbconvert) (2.18.0)\n",
            "Requirement already satisfied: jsonschema>=2.6 in /usr/local/lib/python3.10/dist-packages (from nbformat>=5.1->nbconvert) (4.19.0)\n",
            "Requirement already satisfied: soupsieve>1.2 in /usr/local/lib/python3.10/dist-packages (from beautifulsoup4->nbconvert) (2.5)\n",
            "Requirement already satisfied: six>=1.9.0 in /usr/local/lib/python3.10/dist-packages (from bleach->nbconvert) (1.16.0)\n",
            "Requirement already satisfied: webencodings in /usr/local/lib/python3.10/dist-packages (from bleach->nbconvert) (0.5.1)\n",
            "Requirement already satisfied: attrs>=22.2.0 in /usr/local/lib/python3.10/dist-packages (from jsonschema>=2.6->nbformat>=5.1->nbconvert) (23.1.0)\n",
            "Requirement already satisfied: jsonschema-specifications>=2023.03.6 in /usr/local/lib/python3.10/dist-packages (from jsonschema>=2.6->nbformat>=5.1->nbconvert) (2023.7.1)\n",
            "Requirement already satisfied: referencing>=0.28.4 in /usr/local/lib/python3.10/dist-packages (from jsonschema>=2.6->nbformat>=5.1->nbconvert) (0.30.2)\n",
            "Requirement already satisfied: rpds-py>=0.7.1 in /usr/local/lib/python3.10/dist-packages (from jsonschema>=2.6->nbformat>=5.1->nbconvert) (0.10.2)\n",
            "Requirement already satisfied: pyzmq>=13 in /usr/local/lib/python3.10/dist-packages (from jupyter-client>=6.1.12->nbclient>=0.5.0->nbconvert) (23.2.1)\n",
            "Requirement already satisfied: python-dateutil>=2.1 in /usr/local/lib/python3.10/dist-packages (from jupyter-client>=6.1.12->nbclient>=0.5.0->nbconvert) (2.8.2)\n",
            "Requirement already satisfied: tornado>=4.1 in /usr/local/lib/python3.10/dist-packages (from jupyter-client>=6.1.12->nbclient>=0.5.0->nbconvert) (6.3.2)\n",
            "[NbConvertApp] WARNING | pattern '/content/your_notebook.ipynb' matched no files\n",
            "This application is used to convert notebook files (*.ipynb)\n",
            "        to various other formats.\n",
            "\n",
            "        WARNING: THE COMMANDLINE INTERFACE MAY CHANGE IN FUTURE RELEASES.\n",
            "\n",
            "Options\n",
            "=======\n",
            "The options below are convenience aliases to configurable class-options,\n",
            "as listed in the \"Equivalent to\" description-line of the aliases.\n",
            "To see all configurable class-options for some <cmd>, use:\n",
            "    <cmd> --help-all\n",
            "\n",
            "--debug\n",
            "    set log level to logging.DEBUG (maximize logging output)\n",
            "    Equivalent to: [--Application.log_level=10]\n",
            "--show-config\n",
            "    Show the application's configuration (human-readable format)\n",
            "    Equivalent to: [--Application.show_config=True]\n",
            "--show-config-json\n",
            "    Show the application's configuration (json format)\n",
            "    Equivalent to: [--Application.show_config_json=True]\n",
            "--generate-config\n",
            "    generate default config file\n",
            "    Equivalent to: [--JupyterApp.generate_config=True]\n",
            "-y\n",
            "    Answer yes to any questions instead of prompting.\n",
            "    Equivalent to: [--JupyterApp.answer_yes=True]\n",
            "--execute\n",
            "    Execute the notebook prior to export.\n",
            "    Equivalent to: [--ExecutePreprocessor.enabled=True]\n",
            "--allow-errors\n",
            "    Continue notebook execution even if one of the cells throws an error and include the error message in the cell output (the default behaviour is to abort conversion). This flag is only relevant if '--execute' was specified, too.\n",
            "    Equivalent to: [--ExecutePreprocessor.allow_errors=True]\n",
            "--stdin\n",
            "    read a single notebook file from stdin. Write the resulting notebook with default basename 'notebook.*'\n",
            "    Equivalent to: [--NbConvertApp.from_stdin=True]\n",
            "--stdout\n",
            "    Write notebook output to stdout instead of files.\n",
            "    Equivalent to: [--NbConvertApp.writer_class=StdoutWriter]\n",
            "--inplace\n",
            "    Run nbconvert in place, overwriting the existing notebook (only\n",
            "            relevant when converting to notebook format)\n",
            "    Equivalent to: [--NbConvertApp.use_output_suffix=False --NbConvertApp.export_format=notebook --FilesWriter.build_directory=]\n",
            "--clear-output\n",
            "    Clear output of current file and save in place,\n",
            "            overwriting the existing notebook.\n",
            "    Equivalent to: [--NbConvertApp.use_output_suffix=False --NbConvertApp.export_format=notebook --FilesWriter.build_directory= --ClearOutputPreprocessor.enabled=True]\n",
            "--no-prompt\n",
            "    Exclude input and output prompts from converted document.\n",
            "    Equivalent to: [--TemplateExporter.exclude_input_prompt=True --TemplateExporter.exclude_output_prompt=True]\n",
            "--no-input\n",
            "    Exclude input cells and output prompts from converted document.\n",
            "            This mode is ideal for generating code-free reports.\n",
            "    Equivalent to: [--TemplateExporter.exclude_output_prompt=True --TemplateExporter.exclude_input=True --TemplateExporter.exclude_input_prompt=True]\n",
            "--allow-chromium-download\n",
            "    Whether to allow downloading chromium if no suitable version is found on the system.\n",
            "    Equivalent to: [--WebPDFExporter.allow_chromium_download=True]\n",
            "--disable-chromium-sandbox\n",
            "    Disable chromium security sandbox when converting to PDF..\n",
            "    Equivalent to: [--WebPDFExporter.disable_sandbox=True]\n",
            "--show-input\n",
            "    Shows code input. This flag is only useful for dejavu users.\n",
            "    Equivalent to: [--TemplateExporter.exclude_input=False]\n",
            "--embed-images\n",
            "    Embed the images as base64 dataurls in the output. This flag is only useful for the HTML/WebPDF/Slides exports.\n",
            "    Equivalent to: [--HTMLExporter.embed_images=True]\n",
            "--sanitize-html\n",
            "    Whether the HTML in Markdown cells and cell outputs should be sanitized..\n",
            "    Equivalent to: [--HTMLExporter.sanitize_html=True]\n",
            "--log-level=<Enum>\n",
            "    Set the log level by value or name.\n",
            "    Choices: any of [0, 10, 20, 30, 40, 50, 'DEBUG', 'INFO', 'WARN', 'ERROR', 'CRITICAL']\n",
            "    Default: 30\n",
            "    Equivalent to: [--Application.log_level]\n",
            "--config=<Unicode>\n",
            "    Full path of a config file.\n",
            "    Default: ''\n",
            "    Equivalent to: [--JupyterApp.config_file]\n",
            "--to=<Unicode>\n",
            "    The export format to be used, either one of the built-in formats\n",
            "            ['asciidoc', 'custom', 'html', 'latex', 'markdown', 'notebook', 'pdf', 'python', 'rst', 'script', 'slides', 'webpdf']\n",
            "            or a dotted object name that represents the import path for an\n",
            "            ``Exporter`` class\n",
            "    Default: ''\n",
            "    Equivalent to: [--NbConvertApp.export_format]\n",
            "--template=<Unicode>\n",
            "    Name of the template to use\n",
            "    Default: ''\n",
            "    Equivalent to: [--TemplateExporter.template_name]\n",
            "--template-file=<Unicode>\n",
            "    Name of the template file to use\n",
            "    Default: None\n",
            "    Equivalent to: [--TemplateExporter.template_file]\n",
            "--theme=<Unicode>\n",
            "    Template specific theme(e.g. the name of a JupyterLab CSS theme distributed\n",
            "    as prebuilt extension for the lab template)\n",
            "    Default: 'light'\n",
            "    Equivalent to: [--HTMLExporter.theme]\n",
            "--sanitize_html=<Bool>\n",
            "    Whether the HTML in Markdown cells and cell outputs should be sanitized.This\n",
            "    should be set to True by nbviewer or similar tools.\n",
            "    Default: False\n",
            "    Equivalent to: [--HTMLExporter.sanitize_html]\n",
            "--writer=<DottedObjectName>\n",
            "    Writer class used to write the\n",
            "                                        results of the conversion\n",
            "    Default: 'FilesWriter'\n",
            "    Equivalent to: [--NbConvertApp.writer_class]\n",
            "--post=<DottedOrNone>\n",
            "    PostProcessor class used to write the\n",
            "                                        results of the conversion\n",
            "    Default: ''\n",
            "    Equivalent to: [--NbConvertApp.postprocessor_class]\n",
            "--output=<Unicode>\n",
            "    overwrite base name use for output files.\n",
            "                can only be used when converting one notebook at a time.\n",
            "    Default: ''\n",
            "    Equivalent to: [--NbConvertApp.output_base]\n",
            "--output-dir=<Unicode>\n",
            "    Directory to write output(s) to. Defaults\n",
            "                                  to output to the directory of each notebook. To recover\n",
            "                                  previous default behaviour (outputting to the current\n",
            "                                  working directory) use . as the flag value.\n",
            "    Default: ''\n",
            "    Equivalent to: [--FilesWriter.build_directory]\n",
            "--reveal-prefix=<Unicode>\n",
            "    The URL prefix for reveal.js (version 3.x).\n",
            "            This defaults to the reveal CDN, but can be any url pointing to a copy\n",
            "            of reveal.js.\n",
            "            For speaker notes to work, this must be a relative path to a local\n",
            "            copy of reveal.js: e.g., \"reveal.js\".\n",
            "            If a relative path is given, it must be a subdirectory of the\n",
            "            current directory (from which the server is run).\n",
            "            See the usage documentation\n",
            "            (https://nbconvert.readthedocs.io/en/latest/usage.html#reveal-js-html-slideshow)\n",
            "            for more details.\n",
            "    Default: ''\n",
            "    Equivalent to: [--SlidesExporter.reveal_url_prefix]\n",
            "--nbformat=<Enum>\n",
            "    The nbformat version to write.\n",
            "            Use this to downgrade notebooks.\n",
            "    Choices: any of [1, 2, 3, 4]\n",
            "    Default: 4\n",
            "    Equivalent to: [--NotebookExporter.nbformat_version]\n",
            "\n",
            "Examples\n",
            "--------\n",
            "\n",
            "    The simplest way to use nbconvert is\n",
            "\n",
            "            > jupyter nbconvert mynotebook.ipynb --to html\n",
            "\n",
            "            Options include ['asciidoc', 'custom', 'html', 'latex', 'markdown', 'notebook', 'pdf', 'python', 'rst', 'script', 'slides', 'webpdf'].\n",
            "\n",
            "            > jupyter nbconvert --to latex mynotebook.ipynb\n",
            "\n",
            "            Both HTML and LaTeX support multiple output templates. LaTeX includes\n",
            "            'base', 'article' and 'report'.  HTML includes 'basic', 'lab' and\n",
            "            'classic'. You can specify the flavor of the format used.\n",
            "\n",
            "            > jupyter nbconvert --to html --template lab mynotebook.ipynb\n",
            "\n",
            "            You can also pipe the output to stdout, rather than a file\n",
            "\n",
            "            > jupyter nbconvert mynotebook.ipynb --stdout\n",
            "\n",
            "            PDF is generated via latex\n",
            "\n",
            "            > jupyter nbconvert mynotebook.ipynb --to pdf\n",
            "\n",
            "            You can get (and serve) a Reveal.js-powered slideshow\n",
            "\n",
            "            > jupyter nbconvert myslides.ipynb --to slides --post serve\n",
            "\n",
            "            Multiple notebooks can be given at the command line in a couple of\n",
            "            different ways:\n",
            "\n",
            "            > jupyter nbconvert notebook*.ipynb\n",
            "            > jupyter nbconvert notebook1.ipynb notebook2.ipynb\n",
            "\n",
            "            or you can specify the notebooks list in a config file, containing::\n",
            "\n",
            "                c.NbConvertApp.notebooks = [\"my_notebook.ipynb\"]\n",
            "\n",
            "            > jupyter nbconvert --config mycfg.py\n",
            "\n",
            "To see all available configurables, use `--help-all`.\n",
            "\n"
          ]
        }
      ]
    },
    {
      "cell_type": "markdown",
      "metadata": {
        "id": "dqP7QT-RxYhM"
      },
      "source": [
        "# Execcutar tudo"
      ]
    },
    {
      "cell_type": "markdown",
      "metadata": {
        "id": "2kDtnvrzMiE1"
      },
      "source": [
        "##Inicializar o Código"
      ]
    },
    {
      "cell_type": "markdown",
      "metadata": {
        "id": "jSN0HX3ZMqlA"
      },
      "source": [
        "### Bibliotecas"
      ]
    },
    {
      "cell_type": "code",
      "execution_count": null,
      "metadata": {
        "id": "tFNLlLqDMe8K"
      },
      "outputs": [],
      "source": [
        "import numpy as np\n",
        "import torch\n",
        "import torchvision\n",
        "import matplotlib.pyplot as plt\n",
        "from time import time\n",
        "from torchvision import datasets, transforms\n",
        "from torch import nn, optim\n",
        "from torch.utils.data import DataLoader, Dataset\n",
        "from torch.autograd import Variable\n",
        "import torch.nn.functional as F"
      ]
    },
    {
      "cell_type": "markdown",
      "metadata": {
        "id": "VpaAbYRHMvQy"
      },
      "source": [
        "###Redes"
      ]
    },
    {
      "cell_type": "markdown",
      "metadata": {
        "id": "ZMtRiDBOM2cg"
      },
      "source": [
        "#### CNN\n",
        "A estrutura proposta [2] utiliza as seguintes camadas:\n",
        "  2 camadas convlucionais, que são uma sequência de Convoluções 2d, com o numero de canais respectivo, uma normalização 2d de batch, e ativação na forma de uma ReLU e MaxPooling 2d.\n",
        "\n",
        "  Após isso, tem um \"hack\" para linearizar os dados, out.view(dimensão da matriz retustante, -1) força um display de tensor linear, que após isso vai passaar por 3 camadas \"lineares\" fully connected."
      ]
    },
    {
      "cell_type": "code",
      "execution_count": null,
      "metadata": {
        "id": "2PWhT_nHvuZR"
      },
      "outputs": [],
      "source": [
        "class FashionCNN(nn.Module):\n",
        "  def __init__(self):\n",
        "    super(FashionCNN, self).__init__()\n",
        "\n",
        "    self.layer1 = nn.Sequential(\n",
        "        nn.Conv2d(in_channels=1, out_channels=32, kernel_size=3, padding=1),\n",
        "        nn.BatchNorm2d(32),\n",
        "        nn.ReLU(),\n",
        "        nn.MaxPool2d(kernel_size=2, stride=2)\n",
        "    )\n",
        "\n",
        "    self.layer2 = nn.Sequential(\n",
        "        nn.Conv2d(in_channels=32, out_channels=64, kernel_size=3),\n",
        "        nn.BatchNorm2d(64),\n",
        "        nn.ReLU(),\n",
        "        nn.MaxPool2d(2)\n",
        "    )\n",
        "\n",
        "    self.fc1 = nn.Linear(in_features=64*6*6, out_features=600)\n",
        "    self.drop = nn.Dropout2d(0.25)\n",
        "    self.fc2 = nn.Linear(in_features=600, out_features=120)\n",
        "    self.fc3 = nn.Linear(in_features=120, out_features=10)\n",
        "\n",
        "  def forward(self, x):\n",
        "    out = self.layer1(x)\n",
        "    out = self.layer2(out)\n",
        "    out = out.view(out.size(0), -1)\n",
        "    out = self.fc1(out)\n",
        "    out = self.drop(out)\n",
        "    out = self.fc2(out)\n",
        "    out = self.fc3(out)\n",
        "\n",
        "    return out"
      ]
    },
    {
      "cell_type": "markdown",
      "metadata": {
        "id": "oTpRpDEp2ER1"
      },
      "source": [
        "[4] Vizualiza o número de parâmetros das redes para garantir que elas tem tamanhos semelhantes. Numero de parametros: 1.475338 * 10^7"
      ]
    },
    {
      "cell_type": "code",
      "execution_count": null,
      "metadata": {
        "colab": {
          "base_uri": "https://localhost:8080/"
        },
        "id": "PELuAagRyob_",
        "outputId": "85c4cbdc-0976-4c79-cfc9-58b9e4e71f02"
      },
      "outputs": [
        {
          "output_type": "stream",
          "name": "stdout",
          "text": [
            "Number of parameters: 1475338\n"
          ]
        }
      ],
      "source": [
        "CNNmodel = FashionCNN()\n",
        "\n",
        "total_params = sum(p.numel() for p in CNNmodel.parameters())\n",
        "print(f\"Number of parameters: {total_params}\")"
      ]
    },
    {
      "cell_type": "markdown",
      "metadata": {
        "id": "5C8eV_wTMyeY"
      },
      "source": [
        "#### Fully connected\n",
        "Tendo em mente o resultado esperdo pela rede CNN, podemos simular uma estrutura semelahnte, tentando preservar o nnúmero de parametros, substituindo as camadas convolucionáis por fullyconected (começando com tamanho 28x28).\n",
        "\n",
        "Arquitetura própria"
      ]
    },
    {
      "cell_type": "code",
      "execution_count": null,
      "metadata": {
        "id": "ztpCztwDMoVx"
      },
      "outputs": [],
      "source": [
        "class FashionFC(nn.Module):\n",
        "  def __init__(self):\n",
        "    super(FashionFC, self).__init__()\n",
        "\n",
        "    self.fc1 = nn.Linear(in_features=28*28, out_features=600)\n",
        "    self.drop = nn.Dropout2d(0.25)\n",
        "    self.fc2 = nn.Linear(in_features=600, out_features=1200)\n",
        "    self.fc3 = nn.Linear(in_features=1200, out_features=600)\n",
        "    self.fc4 = nn.Linear(in_features=600, out_features=120)\n",
        "    self.fc5 = nn.Linear(in_features=120, out_features=10)\n",
        "\n",
        "  def forward(self, x):\n",
        "    out = x.view(x.size(0), -1) #hack no começo para linearizar a imagem\n",
        "    out = self.fc1(out)\n",
        "    out = self.drop(out)\n",
        "    out = F.relu(out)\n",
        "    out = self.fc2(out)\n",
        "    out = F.relu(out)\n",
        "    out = self.fc3(out)\n",
        "    out = self.drop(out)\n",
        "    out = F.relu(out)\n",
        "    out = self.fc4(out)\n",
        "    out = F.relu(out)\n",
        "    out = self.fc5(out)\n",
        "\n",
        "    return out"
      ]
    },
    {
      "cell_type": "markdown",
      "metadata": {
        "id": "C0-g6eZr3HGa"
      },
      "source": [
        "Número de parametros: 1.986130x10^7"
      ]
    },
    {
      "cell_type": "code",
      "execution_count": null,
      "metadata": {
        "colab": {
          "base_uri": "https://localhost:8080/"
        },
        "id": "KbhGPaFN2dvS",
        "outputId": "d9c69fab-87e2-4ef2-c847-b1d53778a141"
      },
      "outputs": [
        {
          "output_type": "stream",
          "name": "stdout",
          "text": [
            "Number of parameters: 1986130\n"
          ]
        }
      ],
      "source": [
        "FCmodel = FashionFC()\n",
        "\n",
        "total_params = sum(p.numel() for p in FCmodel.parameters())\n",
        "print(f\"Number of parameters: {total_params}\")"
      ]
    },
    {
      "cell_type": "markdown",
      "metadata": {
        "id": "ZifDu5wvNI0B"
      },
      "source": [
        "### DATASET"
      ]
    },
    {
      "cell_type": "markdown",
      "metadata": {
        "id": "boSkJ57gNMk1"
      },
      "source": [
        "#### Download"
      ]
    },
    {
      "cell_type": "code",
      "execution_count": null,
      "metadata": {
        "id": "oKrc6saXtQI6"
      },
      "outputs": [],
      "source": [
        "#função que recebe uma lista de operadores, ToTensor transforma em a imagem em um tensor, normaliza ela pra ter média e desvio padrão 0.5. Podia ser qualquer valor\n",
        "#transform = transforms.Compose([transforms.ToTensor(),\n",
        "#                              transforms.Normalize((0.5,), (0.5,)),\n",
        "#                              ])\n",
        "\n",
        "transform = transforms.Compose([transforms.ToTensor(),\n",
        "                              ])"
      ]
    },
    {
      "cell_type": "code",
      "execution_count": null,
      "metadata": {
        "id": "lIj-muUUgNZR"
      },
      "outputs": [],
      "source": [
        "# get datasets from torch\n",
        "train_set = torchvision.datasets.FashionMNIST(\"./data\", download=True, train=True, transform=transform)\n",
        "test_set = torchvision.datasets.FashionMNIST(\"./data\", download=True, train=False, transform=transform)\n",
        "\n",
        "batchSize = 100\n",
        "\n",
        "train_loader = torch.utils.data.DataLoader(train_set, batch_size=batchSize)\n",
        "test_loader  = torch.utils.data.DataLoader(test_set , batch_size=batchSize)\n"
      ]
    },
    {
      "cell_type": "markdown",
      "metadata": {
        "id": "MddFizO8NQuG"
      },
      "source": [
        "#### Pré processamento"
      ]
    },
    {
      "cell_type": "code",
      "execution_count": null,
      "metadata": {
        "id": "H7OT-F9qfQg3"
      },
      "outputs": [],
      "source": []
    },
    {
      "cell_type": "markdown",
      "metadata": {
        "id": "SL-MrU9HuThA"
      },
      "source": [
        "## Vizualização dos dados"
      ]
    },
    {
      "cell_type": "code",
      "execution_count": null,
      "metadata": {
        "id": "pPLTTzZduS-P"
      },
      "outputs": [],
      "source": [
        "def output_label(label):\n",
        "    output_mapping = {\n",
        "                 0: \"T-shirt/Top\",\n",
        "                 1: \"Trouser\",\n",
        "                 2: \"Pullover\",\n",
        "                 3: \"Dress\",\n",
        "                 4: \"Coat\",\n",
        "                 5: \"Sandal\",\n",
        "                 6: \"Shirt\",\n",
        "                 7: \"Sneaker\",\n",
        "                 8: \"Bag\",\n",
        "                 9: \"Ankle Boot\"\n",
        "                 }\n",
        "    input = (label.item() if type(label) == torch.Tensor else label)\n",
        "    return output_mapping[input]"
      ]
    },
    {
      "cell_type": "code",
      "execution_count": null,
      "metadata": {
        "colab": {
          "base_uri": "https://localhost:8080/"
        },
        "id": "snw19syousoR",
        "outputId": "cd28be59-5b5c-47dc-a2cf-4a11ac3adc58"
      },
      "outputs": [
        {
          "output_type": "execute_result",
          "data": {
            "text/plain": [
              "torch.Size([100, 1, 28, 28])"
            ]
          },
          "metadata": {},
          "execution_count": 252
        }
      ],
      "source": [
        "a = next(iter(train_loader))\n",
        "a[0].size()"
      ]
    },
    {
      "cell_type": "code",
      "execution_count": null,
      "metadata": {
        "colab": {
          "base_uri": "https://localhost:8080/"
        },
        "id": "JxFa6tLtuo3n",
        "outputId": "b7da2f90-4f3c-402e-af2c-80411b9ca6b0"
      },
      "outputs": [
        {
          "output_type": "execute_result",
          "data": {
            "text/plain": [
              "60000"
            ]
          },
          "metadata": {},
          "execution_count": 253
        }
      ],
      "source": [
        "len(train_set)"
      ]
    },
    {
      "cell_type": "code",
      "execution_count": null,
      "metadata": {
        "colab": {
          "base_uri": "https://localhost:8080/"
        },
        "id": "lN14Gpxzuhbi",
        "outputId": "07830343-ab74-47a5-c2a6-72f6c95b9315"
      },
      "outputs": [
        {
          "output_type": "stream",
          "name": "stdout",
          "text": [
            "9\n"
          ]
        },
        {
          "output_type": "display_data",
          "data": {
            "text/plain": [
              "<Figure size 640x480 with 1 Axes>"
            ],
            "image/png": "[encoded data removed]"
          },
          "metadata": {}
        }
      ],
      "source": [
        "image, label = next(iter(train_set))\n",
        "plt.imshow(image.squeeze(), cmap=\"gray\")\n",
        "print(label)"
      ]
    },
    {
      "cell_type": "code",
      "execution_count": null,
      "metadata": {
        "colab": {
          "base_uri": "https://localhost:8080/"
        },
        "id": "OanhJekvvKHM",
        "outputId": "5086644a-82e1-40a2-d0cb-e99843ee6f91"
      },
      "outputs": [
        {
          "output_type": "stream",
          "name": "stdout",
          "text": [
            "<class 'torch.Tensor'> <class 'torch.Tensor'>\n",
            "torch.Size([10, 1, 28, 28]) torch.Size([10])\n",
            "labels:  Ankle Boot, T-shirt/Top, T-shirt/Top, Dress, T-shirt/Top, Pullover, Sneaker, Pullover, Sandal, Sandal, "
          ]
        },
        {
          "output_type": "display_data",
          "data": {
            "text/plain": [
              "<Figure size 1500x2000 with 1 Axes>"
            ],
            "image/png": "[encoded data removed]"
          },
          "metadata": {}
        }
      ],
      "source": [
        "demo_loader = torch.utils.data.DataLoader(train_set, batch_size=10)\n",
        "\n",
        "batch = next(iter(demo_loader))\n",
        "images, labels = batch\n",
        "print(type(images), type(labels))\n",
        "print(images.shape, labels.shape)\n",
        "\n",
        "grid = torchvision.utils.make_grid(images, nrow=10)\n",
        "\n",
        "plt.figure(figsize=(15, 20))\n",
        "plt.imshow(np.transpose(grid, (1, 2, 0)))\n",
        "print(\"labels: \", end=\" \")\n",
        "for i, label in enumerate(labels):\n",
        "    print(output_label(label), end=\", \")"
      ]
    },
    {
      "cell_type": "markdown",
      "metadata": {
        "id": "XM3oGllnyzyz"
      },
      "source": [
        "## GPU\n",
        "[5][6]temos/queremos tirar vantagem da GPU do google para acelerar o treinamento, logo temos que habilitar essas funcionalidades"
      ]
    },
    {
      "cell_type": "code",
      "execution_count": null,
      "metadata": {
        "colab": {
          "base_uri": "https://localhost:8080/"
        },
        "id": "zyCBjyy4y_La",
        "outputId": "4764c2a0-1156-423f-9253-b2d9be861bd0"
      },
      "outputs": [
        {
          "output_type": "stream",
          "name": "stdout",
          "text": [
            "True\n"
          ]
        }
      ],
      "source": [
        "print(torch.cuda.is_available())\n",
        "device = torch.device(\"cuda:0\" if torch.cuda.is_available() else \"cpu\")"
      ]
    },
    {
      "cell_type": "markdown",
      "metadata": {
        "id": "-Nf-k_3E3YCx"
      },
      "source": [
        "## Execução"
      ]
    },
    {
      "cell_type": "markdown",
      "metadata": {
        "id": "neULUqv2suak"
      },
      "source": [
        "### Definir Modelos"
      ]
    },
    {
      "cell_type": "markdown",
      "metadata": {
        "id": "rjAOoQrquBkT"
      },
      "source": [
        "#### parametros comuns\n",
        "Estamos abstraindo várias caracteristicas, como learning rate e escolha de otimizador para simplificar o projeto final e manter igual para ambos os modelos. Eventualmente um otimizador, erro ou learning rate vai beneficiar um modelo ou outro, mas é um risco que estamos dispostos a correr"
      ]
    },
    {
      "cell_type": "code",
      "execution_count": null,
      "metadata": {
        "id": "ioWKg9n4uAwT"
      },
      "outputs": [],
      "source": [
        "error = nn.CrossEntropyLoss()\n",
        "\n",
        "learning_rate = 0.001"
      ]
    },
    {
      "cell_type": "markdown",
      "metadata": {
        "id": "kvj-M7fwxYjN"
      },
      "source": [
        "#### Específicos"
      ]
    },
    {
      "cell_type": "markdown",
      "metadata": {
        "id": "1K8uwNFVs56G"
      },
      "source": [
        "CNN"
      ]
    },
    {
      "cell_type": "code",
      "execution_count": null,
      "metadata": {
        "colab": {
          "base_uri": "https://localhost:8080/"
        },
        "id": "eCmTJZKi3dV6",
        "outputId": "fb60d0f0-3776-4b0a-ad4d-b79f0e6ac67f"
      },
      "outputs": [
        {
          "output_type": "stream",
          "name": "stdout",
          "text": [
            "FashionCNN(\n",
            "  (layer1): Sequential(\n",
            "    (0): Conv2d(1, 32, kernel_size=(3, 3), stride=(1, 1), padding=(1, 1))\n",
            "    (1): BatchNorm2d(32, eps=1e-05, momentum=0.1, affine=True, track_running_stats=True)\n",
            "    (2): ReLU()\n",
            "    (3): MaxPool2d(kernel_size=2, stride=2, padding=0, dilation=1, ceil_mode=False)\n",
            "  )\n",
            "  (layer2): Sequential(\n",
            "    (0): Conv2d(32, 64, kernel_size=(3, 3), stride=(1, 1))\n",
            "    (1): BatchNorm2d(64, eps=1e-05, momentum=0.1, affine=True, track_running_stats=True)\n",
            "    (2): ReLU()\n",
            "    (3): MaxPool2d(kernel_size=2, stride=2, padding=0, dilation=1, ceil_mode=False)\n",
            "  )\n",
            "  (fc1): Linear(in_features=2304, out_features=600, bias=True)\n",
            "  (drop): Dropout2d(p=0.25, inplace=False)\n",
            "  (fc2): Linear(in_features=600, out_features=120, bias=True)\n",
            "  (fc3): Linear(in_features=120, out_features=10, bias=True)\n",
            ")\n"
          ]
        }
      ],
      "source": [
        "modelCNN = FashionCNN()\n",
        "modelCNN.to(device)\n",
        "\n",
        "optimizerCNN = torch.optim.Adam(modelCNN.parameters(), lr=learning_rate)\n",
        "print(modelCNN)"
      ]
    },
    {
      "cell_type": "markdown",
      "metadata": {
        "id": "ruvQY-wHs-0i"
      },
      "source": [
        "FC"
      ]
    },
    {
      "cell_type": "code",
      "execution_count": null,
      "metadata": {
        "colab": {
          "base_uri": "https://localhost:8080/"
        },
        "id": "nrI6SWhItDCv",
        "outputId": "67ba5b80-24e6-4a38-e0b5-3a4cd4f450cb"
      },
      "outputs": [
        {
          "output_type": "stream",
          "name": "stdout",
          "text": [
            "FashionFC(\n",
            "  (fc1): Linear(in_features=784, out_features=600, bias=True)\n",
            "  (drop): Dropout2d(p=0.25, inplace=False)\n",
            "  (fc2): Linear(in_features=600, out_features=1200, bias=True)\n",
            "  (fc3): Linear(in_features=1200, out_features=600, bias=True)\n",
            "  (fc4): Linear(in_features=600, out_features=120, bias=True)\n",
            "  (fc5): Linear(in_features=120, out_features=10, bias=True)\n",
            ")\n"
          ]
        }
      ],
      "source": [
        "modelFC = FashionFC()\n",
        "modelFC.to(device)\n",
        "\n",
        "optimizerFC = torch.optim.Adam(modelFC.parameters(), lr=learning_rate)\n",
        "print(modelFC)"
      ]
    },
    {
      "cell_type": "markdown",
      "metadata": {
        "id": "HaNGU-extihR"
      },
      "source": [
        "### Treinamento"
      ]
    },
    {
      "cell_type": "markdown",
      "metadata": {
        "id": "GoNsDs635nJe"
      },
      "source": [
        "####Setup"
      ]
    },
    {
      "cell_type": "code",
      "execution_count": null,
      "metadata": {
        "id": "qm7nrBIZtiHe"
      },
      "outputs": [],
      "source": [
        "def trainModel(model, optimizer, num_epochs):\n",
        "  count = 0\n",
        "  # Lists for visualization of loss and accuracy\n",
        "  loss_list = []\n",
        "  iteration_list = []\n",
        "  accuracy_list = []\n",
        "\n",
        "  # Lists for knowing classwise accuracy\n",
        "  predictions_list = []\n",
        "  labels_list = []\n",
        "  for epoch in range(num_epochs):\n",
        "      for images, labels in train_loader:\n",
        "          # Transfering images and labels to GPU if available\n",
        "          images, labels = images.to(device), labels.to(device)\n",
        "\n",
        "          train = Variable(images.view(100, 1, 28, 28))\n",
        "          labels = Variable(labels)\n",
        "\n",
        "          # Forward pass\n",
        "          outputs = model(train)\n",
        "          loss = error(outputs, labels)\n",
        "\n",
        "          # Initializing a gradient as 0 so there is no mixing of gradient among the batches\n",
        "          optimizer.zero_grad()\n",
        "\n",
        "          #Propagating the error backward\n",
        "          loss.backward()\n",
        "\n",
        "          # Optimizing the parameters\n",
        "          optimizer.step()\n",
        "\n",
        "          count += 1\n",
        "\n",
        "      # Testing the model\n",
        "\n",
        "          if not (count % 50):    # It's same as \"if count % 50 == 0\"\n",
        "              total = 0\n",
        "              correct = 0\n",
        "\n",
        "              for images, labels in test_loader:\n",
        "                  images, labels = images.to(device), labels.to(device)\n",
        "                  labels_list.append(labels)\n",
        "\n",
        "                  test = Variable(images.view(100, 1, 28, 28))\n",
        "\n",
        "                  outputs = model(test)\n",
        "\n",
        "                  predictions = torch.max(outputs, 1)[1].to(device)\n",
        "                  predictions_list.append(predictions)\n",
        "                  correct += (predictions == labels).sum()\n",
        "\n",
        "                  total += len(labels)\n",
        "\n",
        "              accuracy = correct * 100 / total\n",
        "              loss_list.append(loss.data)\n",
        "              iteration_list.append(count)\n",
        "              accuracy_list.append(accuracy)\n",
        "\n",
        "          if not (count % 500):\n",
        "              print(\"Iteration: {}, Loss: {}, Accuracy: {}%\".format(count, loss.data, accuracy))\n",
        "  return iteration_list, loss_list, accuracy_list, predictions_list, labels_list"
      ]
    },
    {
      "cell_type": "markdown",
      "metadata": {
        "id": "RWV_jOT55qas"
      },
      "source": [
        "#### Training"
      ]
    },
    {
      "cell_type": "code",
      "execution_count": null,
      "metadata": {
        "colab": {
          "base_uri": "https://localhost:8080/"
        },
        "id": "XJDntA11yQQv",
        "outputId": "57152d57-32c7-49fc-9874-ec61d0c47281"
      },
      "outputs": [
        {
          "output_type": "stream",
          "name": "stdout",
          "text": [
            "Iteration: 500, Loss: 0.5143749713897705, Accuracy: 87.36000061035156%\n",
            "Iteration: 1000, Loss: 0.25424012541770935, Accuracy: 87.72000122070312%\n",
            "Iteration: 1500, Loss: 0.3105819821357727, Accuracy: 88.36000061035156%\n",
            "Iteration: 2000, Loss: 0.20607279241085052, Accuracy: 88.91999816894531%\n",
            "Iteration: 2500, Loss: 0.14208915829658508, Accuracy: 90.04000091552734%\n",
            "Iteration: 3000, Loss: 0.18538497388362885, Accuracy: 90.45999908447266%\n"
          ]
        }
      ],
      "source": [
        "iteration_list_CNN, loss_list_CNN, accuracy_list_CNN, predictions_list_CNN, labels_list = trainModel(modelCNN, optimizerCNN, 5)\n",
        "loss_list_CNN = [i.cpu().numpy() for i in loss_list_CNN]\n",
        "accuracy_list_CNN = [i.cpu().numpy() for i in accuracy_list_CNN]"
      ]
    },
    {
      "cell_type": "code",
      "execution_count": null,
      "metadata": {
        "colab": {
          "base_uri": "https://localhost:8080/"
        },
        "id": "TEyuPE9foc0d",
        "outputId": "cef25cfd-19a2-4863-f7d7-6be5d603eeee"
      },
      "outputs": [
        {
          "output_type": "stream",
          "name": "stdout",
          "text": [
            "Iteration: 500, Loss: 0.5838962197303772, Accuracy: 82.11000061035156%\n",
            "Iteration: 1000, Loss: 0.5014526844024658, Accuracy: 84.86000061035156%\n",
            "Iteration: 1500, Loss: 0.43641796708106995, Accuracy: 83.93999481201172%\n",
            "Iteration: 2000, Loss: 0.4362982511520386, Accuracy: 85.65999603271484%\n",
            "Iteration: 2500, Loss: 0.3074561357498169, Accuracy: 85.1199951171875%\n",
            "Iteration: 3000, Loss: 0.3215397298336029, Accuracy: 86.1500015258789%\n"
          ]
        }
      ],
      "source": [
        "iteration_list_FC, loss_list_FC, accuracy_list_FC, predictions_list_FC, labels_list = trainModel(modelFC, optimizerFC, 5)\n",
        "loss_list_FC= [i.cpu().numpy() for i in loss_list_FC]\n",
        "accuracy_list_FC = [i.cpu().numpy() for i in accuracy_list_FC]"
      ]
    },
    {
      "cell_type": "markdown",
      "metadata": {
        "id": "8HzOIbyaUThR"
      },
      "source": [
        "### Vizualização"
      ]
    },
    {
      "cell_type": "code",
      "execution_count": null,
      "metadata": {
        "id": "ZMrfxqgdUZvZ"
      },
      "outputs": [],
      "source": [
        "def plotLoss(iter, loss1, loss2):\n",
        "  plt.plot(iter, loss1, label = \"CNN\")\n",
        "  plt.plot(iter, loss2, label = \"FC\")\n",
        "  plt.xlabel(\"No. of Iteration: \")\n",
        "  plt.ylabel(\"Loss\")\n",
        "  plt.title(\"Iterations vs Loss\")\n",
        "  plt.legend()\n",
        "  plt.show()"
      ]
    },
    {
      "cell_type": "code",
      "execution_count": null,
      "metadata": {
        "id": "NHwc24Zngp88"
      },
      "outputs": [],
      "source": [
        "def plotAcc(iter, acc1, acc2):\n",
        "  plt.plot(iter, acc1, label = \"CNN\" )\n",
        "  plt.plot(iter, acc2, label = \"FC\")\n",
        "  plt.xlabel(\"No. of Iteration\")\n",
        "  plt.ylabel(\"Accuracy\")\n",
        "  plt.title(\"Iterations vs Accuracy\")\n",
        "  plt.legend()\n",
        "  plt.show()"
      ]
    },
    {
      "cell_type": "code",
      "execution_count": null,
      "metadata": {
        "id": "oeqth5LJhPjP"
      },
      "outputs": [],
      "source": [
        "def test_model(model):\n",
        "  class_correct = [0. for _ in range(10)]\n",
        "  total_correct = [0. for _ in range(10)]\n",
        "\n",
        "  with torch.no_grad():\n",
        "      for images, labels in test_loader:\n",
        "          images, labels = images.to(device), labels.to(device)\n",
        "          test = Variable(images)\n",
        "          outputs = model(test)\n",
        "          predicted = torch.max(outputs, 1)[1]\n",
        "          c = (predicted == labels).squeeze()\n",
        "\n",
        "          for i in range(100):\n",
        "              label = labels[i]\n",
        "              class_correct[label] += c[i].item()\n",
        "              total_correct[label] += 1\n",
        "\n",
        "  for i in range(10):\n",
        "      print(\"Accuracy of {}: {:.2f}%\".format(output_label(i), class_correct[i] * 100 / total_correct[i]))"
      ]
    },
    {
      "cell_type": "code",
      "execution_count": null,
      "metadata": {
        "colab": {
          "base_uri": "https://localhost:8080/",
          "height": 927
        },
        "id": "BtsOGodp3WsC",
        "outputId": "f801ab7a-1615-4af6-c631-4514229dac0a"
      },
      "outputs": [
        {
          "output_type": "display_data",
          "data": {
            "text/plain": [
              "<Figure size 640x480 with 1 Axes>"
            ],
            "image/png": "[encoded data removed]"
          },
          "metadata": {}
        },
        {
          "output_type": "display_data",
          "data": {
            "text/plain": [
              "<Figure size 640x480 with 1 Axes>"
            ],
            "image/png": "[encoded data removed]"
          },
          "metadata": {}
        }
      ],
      "source": [
        "plotLoss(iteration_list_CNN, loss_list_CNN, loss_list_FC)\n",
        "plotAcc (iteration_list_CNN, accuracy_list_CNN, accuracy_list_FC)"
      ]
    },
    {
      "cell_type": "code",
      "execution_count": null,
      "metadata": {
        "colab": {
          "base_uri": "https://localhost:8080/"
        },
        "id": "-311jU84hloP",
        "outputId": "f5adfb97-eabb-4178-a621-72ce11147b75"
      },
      "outputs": [
        {
          "output_type": "stream",
          "name": "stdout",
          "text": [
            "Accuracy of T-shirt/Top: 88.00%\n",
            "Accuracy of Trouser: 98.70%\n",
            "Accuracy of Pullover: 82.70%\n",
            "Accuracy of Dress: 93.10%\n",
            "Accuracy of Coat: 81.00%\n",
            "Accuracy of Sandal: 95.70%\n",
            "Accuracy of Shirt: 71.90%\n",
            "Accuracy of Sneaker: 96.40%\n",
            "Accuracy of Bag: 99.50%\n",
            "Accuracy of Ankle Boot: 96.80%\n",
            "\n",
            "Accuracy of T-shirt/Top: 91.90%\n",
            "Accuracy of Trouser: 94.90%\n",
            "Accuracy of Pullover: 75.10%\n",
            "Accuracy of Dress: 88.00%\n",
            "Accuracy of Coat: 82.40%\n",
            "Accuracy of Sandal: 94.50%\n",
            "Accuracy of Shirt: 49.80%\n",
            "Accuracy of Sneaker: 95.60%\n",
            "Accuracy of Bag: 97.20%\n",
            "Accuracy of Ankle Boot: 94.60%\n"
          ]
        }
      ],
      "source": [
        "test_model(modelCNN)\n",
        "print (\"\")\n",
        "test_model(modelFC)"
      ]
    },
    {
      "cell_type": "code",
      "execution_count": null,
      "metadata": {
        "id": "S7IaZujrhzA5"
      },
      "outputs": [],
      "source": [
        "def ConfussionMatrix(predictions_list,labels_list):\n",
        "  from itertools import chain\n",
        "\n",
        "  predictions_l = [predictions_list[i].tolist() for i in range(len(predictions_list))]\n",
        "  labels_l = [labels_list[i].tolist() for i in range(len(labels_list))]\n",
        "  predictions_l = list(chain.from_iterable(predictions_l))\n",
        "  labels_l = list(chain.from_iterable(labels_l))\n",
        "\n",
        "  import sklearn.metrics as metrics\n",
        "  from sklearn.metrics import confusion_matrix\n",
        "\n",
        "  confusion_matrix(labels_l, predictions_l)\n",
        "  print(\"Classification report for CNN :\\n%s\\n\"\n",
        "        % (metrics.classification_report(labels_l, predictions_l)))"
      ]
    },
    {
      "cell_type": "code",
      "execution_count": null,
      "metadata": {
        "colab": {
          "base_uri": "https://localhost:8080/"
        },
        "id": "CzbMUoufjFo6",
        "outputId": "f1aa57f1-6921-4a69-dc4c-02ffd17df9ba"
      },
      "outputs": [
        {
          "output_type": "stream",
          "name": "stdout",
          "text": [
            "Classification report for CNN :\n",
            "              precision    recall  f1-score   support\n",
            "\n",
            "           0       0.83      0.82      0.83     60000\n",
            "           1       0.97      0.98      0.98     60000\n",
            "           2       0.85      0.82      0.83     60000\n",
            "           3       0.87      0.89      0.88     60000\n",
            "           4       0.80      0.83      0.81     60000\n",
            "           5       0.97      0.96      0.97     60000\n",
            "           6       0.69      0.67      0.68     60000\n",
            "           7       0.93      0.94      0.93     60000\n",
            "           8       0.96      0.97      0.97     60000\n",
            "           9       0.95      0.95      0.95     60000\n",
            "\n",
            "    accuracy                           0.88    600000\n",
            "   macro avg       0.88      0.88      0.88    600000\n",
            "weighted avg       0.88      0.88      0.88    600000\n",
            "\n",
            "\n",
            "Classification report for CNN :\n",
            "              precision    recall  f1-score   support\n",
            "\n",
            "           0       0.80      0.79      0.79     60000\n",
            "           1       0.98      0.96      0.97     60000\n",
            "           2       0.73      0.74      0.73     60000\n",
            "           3       0.83      0.87      0.85     60000\n",
            "           4       0.71      0.75      0.73     60000\n",
            "           5       0.96      0.91      0.93     60000\n",
            "           6       0.63      0.56      0.59     60000\n",
            "           7       0.90      0.92      0.91     60000\n",
            "           8       0.95      0.96      0.95     60000\n",
            "           9       0.92      0.94      0.93     60000\n",
            "\n",
            "    accuracy                           0.84    600000\n",
            "   macro avg       0.84      0.84      0.84    600000\n",
            "weighted avg       0.84      0.84      0.84    600000\n",
            "\n",
            "\n"
          ]
        }
      ],
      "source": [
        "ConfussionMatrix(predictions_list_CNN, labels_list)\n",
        "ConfussionMatrix(predictions_list_FC, labels_list)"
      ]
    }
  ],
  "metadata": {
    "accelerator": "GPU",
    "colab": {
      "collapsed_sections": [
        "jSN0HX3ZMqlA",
        "5C8eV_wTMyeY",
        "ZifDu5wvNI0B",
        "SL-MrU9HuThA",
        "XM3oGllnyzyz",
        "GoNsDs635nJe"
      ],
      "provenance": [],
      "authorship_tag": "ABX9TyNH4j2Upx3O10nyOpJkfNsI",
      "include_colab_link": true
    },
    "kernelspec": {
      "display_name": "Python 3",
      "name": "python3"
    },
    "language_info": {
      "name": "python"
    }
  },
  "nbformat": 4,
  "nbformat_minor": 0
}