{
  "nbformat": 4,
  "nbformat_minor": 0,
  "metadata": {
    "colab": {
      "provenance": [],
      "collapsed_sections": [
        "v91AKKi6rG4j"
      ],
      "authorship_tag": "ABX9TyNaap7MTLhJQUhgNll4UWQA",
      "include_colab_link": true
    },
    "kernelspec": {
      "name": "python3",
      "display_name": "Python 3"
    },
    "language_info": {
      "name": "python"
    }
  },
  "cells": [
    {
      "cell_type": "markdown",
      "metadata": {
        "id": "view-in-github",
        "colab_type": "text"
      },
      "source": [
        "<a href=\"https://colab.research.google.com/github/JoaoVitorSantiagoNogueira/deepLearning2023/blob/main/T3/DL_Task3.ipynb\" target=\"_parent\"><img src=\"https://colab.research.google.com/assets/colab-badge.svg\" alt=\"Open In Colab\"/></a>"
      ]
    },
    {
      "cell_type": "markdown",
      "source": [
        "# Task 3\n",
        "\n",
        "Test different auto-encoder architectures"
      ],
      "metadata": {
        "id": "6RDf_TdnqIvO"
      }
    },
    {
      "cell_type": "markdown",
      "source": [
        "## Theory"
      ],
      "metadata": {
        "id": "v91AKKi6rG4j"
      }
    },
    {
      "cell_type": "markdown",
      "source": [
        "### references:"
      ],
      "metadata": {
        "id": "vSJgQFsUq3GC"
      }
    },
    {
      "cell_type": "markdown",
      "source": [
        "[1]\n",
        "[2]\n",
        "..."
      ],
      "metadata": {
        "id": "grScMvohq8c9"
      }
    },
    {
      "cell_type": "markdown",
      "source": [
        "## Code"
      ],
      "metadata": {
        "id": "tVGpJpY9rBUq"
      }
    },
    {
      "cell_type": "markdown",
      "source": [
        "### Intialization"
      ],
      "metadata": {
        "id": "2Kfbwn41rN9X"
      }
    },
    {
      "cell_type": "code",
      "source": [
        "import tensorflow as tf\n",
        "import numpy as np\n",
        "from tensorflow."
      ],
      "metadata": {
        "id": "P8CWCb-Urdle"
      },
      "execution_count": null,
      "outputs": []
    },
    {
      "cell_type": "markdown",
      "source": [
        "###Training"
      ],
      "metadata": {
        "id": "r-1gbfUirQk-"
      }
    },
    {
      "cell_type": "markdown",
      "source": [
        "### Usage"
      ],
      "metadata": {
        "id": "bPtsmMUArUpQ"
      }
    },
    {
      "cell_type": "markdown",
      "source": [
        "### Visualization\n"
      ],
      "metadata": {
        "id": "qbYs2gierYeI"
      }
    }
  ]
}